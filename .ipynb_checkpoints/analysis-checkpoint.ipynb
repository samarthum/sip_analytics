{
 "cells": [
  {
   "cell_type": "markdown",
   "id": "3fff57e6",
   "metadata": {},
   "source": [
    "### Imports"
   ]
  },
  {
   "cell_type": "code",
   "execution_count": 1,
   "id": "03e833b6",
   "metadata": {},
   "outputs": [],
   "source": [
    "import warnings\n",
    "warnings.filterwarnings('ignore')\n",
    "import pandas as pd\n",
    "import numpy as np\n",
    "from datetime import datetime\n",
    "\n",
    "import matplotlib.pyplot as plt \n",
    "import seaborn as sns\n",
    "\n",
    "import helper\n",
    "\n",
    "%matplotlib inline"
   ]
  },
  {
   "cell_type": "markdown",
   "id": "a0c985b9",
   "metadata": {},
   "source": [
    "### Business Understanding"
   ]
  },
  {
   "cell_type": "markdown",
   "id": "6bb50033",
   "metadata": {},
   "source": [
    "The data we'll be looking at is from a franchise of SIP Abacus. SIP Abacus is one of the biggest Abacus training companies in the country. They have 760 centres across 23 States in India, and have trained 6,25,000 children since 1999.\n",
    "\n",
    "The aim of this exercise is to get a general understanding of the health of one specific centre. We'll try to tease apart some of the issues, and also think about how we might solve them.\n",
    "\n",
    "The 3 business questions that we'll be looking at are:"
   ]
  },
  {
   "cell_type": "markdown",
   "id": "cb8efce3",
   "metadata": {},
   "source": [
    "**Of the students who enrolled for the program, how many of them dropped out?**"
   ]
  },
  {
   "cell_type": "markdown",
   "id": "0206ed19",
   "metadata": {},
   "source": [
    "**What is the distribution of student dropouts along different points in the journey of the course?**"
   ]
  },
  {
   "cell_type": "markdown",
   "id": "263db0dc",
   "metadata": {},
   "source": [
    "**How has the admission rate changed over the last 3 years?**"
   ]
  },
  {
   "cell_type": "markdown",
   "id": "83df051b",
   "metadata": {},
   "source": [
    "### Data Cleaning and Understanding"
   ]
  },
  {
   "cell_type": "code",
   "execution_count": 2,
   "id": "bd19258c",
   "metadata": {},
   "outputs": [],
   "source": [
    "# Analyse student history data\n",
    "\n",
    "students_record_path = 'students_record.xlsx'\n",
    "payments_path = 'payments.csv'\n",
    "\n",
    "df = helper.read_file(students_record_path)\n",
    "payments = helper.read_file(payments_path)"
   ]
  },
  {
   "cell_type": "markdown",
   "id": "0d01ecd4",
   "metadata": {},
   "source": [
    "**df** - Contains the record of all the students, including their basic info and which level they're at, who their teacher is etc.\n",
    "\n",
    "**payments** - Fee payment history of each student."
   ]
  },
  {
   "cell_type": "code",
   "execution_count": 3,
   "id": "4c08a186",
   "metadata": {},
   "outputs": [],
   "source": [
    "# Selecting columns from df that are relevant for our analysis\n",
    "\n",
    "df_useful_cols = ['student_name', 'student_code', 'dob', 'course_name', \n",
    "                  'enquiry_dt', 'admission_dt', 'batch_name', 'course_instructor',\n",
    "                  'level_name', 'course_status', 'course_start_date', 'course_end_date',\n",
    "                  'course_complete_date', 'assessment_dt', 'discontinue_dt', \n",
    "                  'source_of_enquiry', 'school_name']\n",
    "\n",
    "df = df[df_useful_cols]"
   ]
  },
  {
   "cell_type": "code",
   "execution_count": 4,
   "id": "d1f8fa56",
   "metadata": {},
   "outputs": [],
   "source": [
    "# Selecting columns from payments that are relevant for our analysis\n",
    "\n",
    "payments_useful_cols = ['invoice_date', 'receipt_date', 'student_name', 'invoice/receipt_amt_wo',\n",
    "                        'disc_amount', 'paid_amt_wo_tax', 'late_fee']\n",
    "\n",
    "payments = payments[payments_useful_cols]\n",
    "payments = payments.iloc[:-1, :] # Dropping last row because it's useless"
   ]
  },
  {
   "cell_type": "code",
   "execution_count": 5,
   "id": "8d913a83",
   "metadata": {},
   "outputs": [],
   "source": [
    "# Clean up student name column\n",
    "# There are nulls because of the way the data is structured. We'll just fill the nulls\n",
    "# under a student name with the name itself.\n",
    "\n",
    "df['student_name'] = df['student_name'].fillna(method='ffill')"
   ]
  },
  {
   "cell_type": "code",
   "execution_count": 6,
   "id": "3f3fa82d",
   "metadata": {},
   "outputs": [
    {
     "data": {
      "text/html": [
       "<div>\n",
       "<style scoped>\n",
       "    .dataframe tbody tr th:only-of-type {\n",
       "        vertical-align: middle;\n",
       "    }\n",
       "\n",
       "    .dataframe tbody tr th {\n",
       "        vertical-align: top;\n",
       "    }\n",
       "\n",
       "    .dataframe thead th {\n",
       "        text-align: right;\n",
       "    }\n",
       "</style>\n",
       "<table border=\"1\" class=\"dataframe\">\n",
       "  <thead>\n",
       "    <tr style=\"text-align: right;\">\n",
       "      <th></th>\n",
       "      <th>student_name</th>\n",
       "      <th>student_code</th>\n",
       "      <th>dob</th>\n",
       "      <th>course_name</th>\n",
       "      <th>enquiry_dt</th>\n",
       "      <th>admission_dt</th>\n",
       "      <th>batch_name</th>\n",
       "      <th>course_instructor</th>\n",
       "      <th>level_name</th>\n",
       "      <th>course_status</th>\n",
       "      <th>course_start_date</th>\n",
       "      <th>course_end_date</th>\n",
       "      <th>course_complete_date</th>\n",
       "      <th>assessment_dt</th>\n",
       "      <th>discontinue_dt</th>\n",
       "      <th>source_of_enquiry</th>\n",
       "      <th>school_name</th>\n",
       "    </tr>\n",
       "  </thead>\n",
       "  <tbody>\n",
       "    <tr>\n",
       "      <th>0</th>\n",
       "      <td>A G SAMIK SINGH</td>\n",
       "      <td>AMN131019020</td>\n",
       "      <td>29-06-2013</td>\n",
       "      <td>AMAL NEW</td>\n",
       "      <td>20-08-2019</td>\n",
       "      <td>20-08-2019</td>\n",
       "      <td>SHOBHA SAT 4PM TO 6.15PM</td>\n",
       "      <td>SHOBHA U M</td>\n",
       "      <td>AMAL A NEW</td>\n",
       "      <td>DISCONTINUE</td>\n",
       "      <td>20-08-2019</td>\n",
       "      <td>10-12-2019</td>\n",
       "      <td>NaN</td>\n",
       "      <td>NaN</td>\n",
       "      <td>31-10-2019</td>\n",
       "      <td>WEBSITE</td>\n",
       "      <td>DAFFODILES</td>\n",
       "    </tr>\n",
       "    <tr>\n",
       "      <th>1</th>\n",
       "      <td>A R SHRADHA</td>\n",
       "      <td>SJ131021030</td>\n",
       "      <td>03-11-2014</td>\n",
       "      <td>SIP ABACUS JUNIOR</td>\n",
       "      <td>29-11-2021</td>\n",
       "      <td>29-11-2021</td>\n",
       "      <td>AMRUTA JR DEC 21</td>\n",
       "      <td>AMRUTHA S</td>\n",
       "      <td>SIP ABACUS JUNIOR A</td>\n",
       "      <td>ACTIVE</td>\n",
       "      <td>04-12-2021</td>\n",
       "      <td>26-03-2022</td>\n",
       "      <td>NaN</td>\n",
       "      <td>NaN</td>\n",
       "      <td>NaN</td>\n",
       "      <td>WEBSITE</td>\n",
       "      <td>SHIKSHA SAGAR</td>\n",
       "    </tr>\n",
       "    <tr>\n",
       "      <th>2</th>\n",
       "      <td>A V HRUSHIKESH</td>\n",
       "      <td>SA131019006</td>\n",
       "      <td>03-03-2009</td>\n",
       "      <td>SIP ABACUS</td>\n",
       "      <td>12-03-2019</td>\n",
       "      <td>12-03-2019</td>\n",
       "      <td>GAURI THUR 5 PM TO 7.15 PM</td>\n",
       "      <td>GAURI</td>\n",
       "      <td>FOUNDATION 1</td>\n",
       "      <td>ACTIVE</td>\n",
       "      <td>12-03-2019</td>\n",
       "      <td>02-07-2019</td>\n",
       "      <td>31-05-2019</td>\n",
       "      <td>01-04-2019</td>\n",
       "      <td>31-08-2019</td>\n",
       "      <td>SIGN BOARD</td>\n",
       "      <td>AIR FORCE SCHOOL</td>\n",
       "    </tr>\n",
       "    <tr>\n",
       "      <th>3</th>\n",
       "      <td>A V HRUSHIKESH</td>\n",
       "      <td>NaN</td>\n",
       "      <td>NaN</td>\n",
       "      <td>NaN</td>\n",
       "      <td>NaN</td>\n",
       "      <td>NaN</td>\n",
       "      <td>GAURI THUR 5 PM TO 7.15 PM</td>\n",
       "      <td>GAURI</td>\n",
       "      <td>FOUNDATION 2</td>\n",
       "      <td>DISCONTINUE</td>\n",
       "      <td>31-05-2019</td>\n",
       "      <td>30-08-2019</td>\n",
       "      <td>NaN</td>\n",
       "      <td>NaN</td>\n",
       "      <td>31-08-2019</td>\n",
       "      <td>NaN</td>\n",
       "      <td>NEW ADMISSION</td>\n",
       "    </tr>\n",
       "    <tr>\n",
       "      <th>4</th>\n",
       "      <td>AADARSH C</td>\n",
       "      <td>AMN131019012</td>\n",
       "      <td>21-10-2013</td>\n",
       "      <td>AMAL NEW</td>\n",
       "      <td>01-08-2019</td>\n",
       "      <td>01-08-2019</td>\n",
       "      <td>SHOBHA SAT 4PM TO 6.15PM</td>\n",
       "      <td>SHOBHA U M</td>\n",
       "      <td>AMAL A NEW</td>\n",
       "      <td>DISCONTINUE</td>\n",
       "      <td>01-08-2019</td>\n",
       "      <td>21-11-2019</td>\n",
       "      <td>NaN</td>\n",
       "      <td>NaN</td>\n",
       "      <td>31-12-2019</td>\n",
       "      <td>SCHOOL ACTIVITY</td>\n",
       "      <td>SHISKA SAGAR</td>\n",
       "    </tr>\n",
       "  </tbody>\n",
       "</table>\n",
       "</div>"
      ],
      "text/plain": [
       "      student_name  student_code         dob        course_name  enquiry_dt  \\\n",
       "0  A G SAMIK SINGH  AMN131019020  29-06-2013           AMAL NEW  20-08-2019   \n",
       "1      A R SHRADHA   SJ131021030  03-11-2014  SIP ABACUS JUNIOR  29-11-2021   \n",
       "2   A V HRUSHIKESH   SA131019006  03-03-2009         SIP ABACUS  12-03-2019   \n",
       "3   A V HRUSHIKESH           NaN         NaN                NaN         NaN   \n",
       "4        AADARSH C  AMN131019012  21-10-2013           AMAL NEW  01-08-2019   \n",
       "\n",
       "  admission_dt                  batch_name course_instructor  \\\n",
       "0   20-08-2019    SHOBHA SAT 4PM TO 6.15PM        SHOBHA U M   \n",
       "1   29-11-2021            AMRUTA JR DEC 21         AMRUTHA S   \n",
       "2   12-03-2019  GAURI THUR 5 PM TO 7.15 PM             GAURI   \n",
       "3          NaN  GAURI THUR 5 PM TO 7.15 PM             GAURI   \n",
       "4   01-08-2019    SHOBHA SAT 4PM TO 6.15PM        SHOBHA U M   \n",
       "\n",
       "            level_name course_status course_start_date course_end_date  \\\n",
       "0           AMAL A NEW   DISCONTINUE        20-08-2019      10-12-2019   \n",
       "1  SIP ABACUS JUNIOR A        ACTIVE        04-12-2021      26-03-2022   \n",
       "2         FOUNDATION 1        ACTIVE        12-03-2019      02-07-2019   \n",
       "3         FOUNDATION 2   DISCONTINUE        31-05-2019      30-08-2019   \n",
       "4           AMAL A NEW   DISCONTINUE        01-08-2019      21-11-2019   \n",
       "\n",
       "  course_complete_date assessment_dt discontinue_dt source_of_enquiry  \\\n",
       "0                  NaN           NaN     31-10-2019           WEBSITE   \n",
       "1                  NaN           NaN            NaN           WEBSITE   \n",
       "2           31-05-2019    01-04-2019     31-08-2019        SIGN BOARD   \n",
       "3                  NaN           NaN     31-08-2019               NaN   \n",
       "4                  NaN           NaN     31-12-2019   SCHOOL ACTIVITY   \n",
       "\n",
       "        school_name  \n",
       "0        DAFFODILES  \n",
       "1     SHIKSHA SAGAR  \n",
       "2  AIR FORCE SCHOOL  \n",
       "3     NEW ADMISSION  \n",
       "4      SHISKA SAGAR  "
      ]
     },
     "execution_count": 6,
     "metadata": {},
     "output_type": "execute_result"
    }
   ],
   "source": [
    "df.head()"
   ]
  },
  {
   "cell_type": "code",
   "execution_count": 7,
   "id": "14f3e151",
   "metadata": {},
   "outputs": [],
   "source": [
    "# Create Students DB\n",
    "\n",
    "students = df[['student_name', 'student_code', 'admission_dt',\n",
    "               'discontinue_dt', 'course_instructor',\n",
    "               'source_of_enquiry', 'school_name']]\n",
    "\n",
    "students = students.groupby('student_name').first().reset_index()\n",
    "\n",
    "students['start_level'] = df.groupby('student_name')['level_name'].first().values\n",
    "students['final_level'] = df.groupby('student_name')['level_name'].last().values\n",
    "students['status'] = df.groupby('student_name')['course_status'].last().values\n",
    "\n",
    "students['admission_dt'] = students['admission_dt'].apply(helper.str_to_datetime)\n",
    "students['dropout_dt'] = students['discontinue_dt'].apply(helper.str_to_datetime)\n",
    "\n",
    "students['time_to_dropout'] = (students['dropout_dt'] - students['admission_dt']).dt.days/30"
   ]
  },
  {
   "cell_type": "code",
   "execution_count": 8,
   "id": "2df80859",
   "metadata": {},
   "outputs": [],
   "source": [
    "# Clean up student status\n",
    "\n",
    "status_map = {\n",
    "    'DISCONTINUE': 'DROPOUT',\n",
    "    'ENQUIRY': 'ACTIVE',\n",
    "    'COMPLETED': 'COMPLETE',\n",
    "    'PROMOTED': 'ACTIVE',\n",
    "}\n",
    "\n",
    "students['status'] = students['status'].replace(status_map)"
   ]
  },
  {
   "cell_type": "markdown",
   "id": "d26a0a90",
   "metadata": {},
   "source": [
    "### Q1. Of the students who enrolled for the program, how many of them dropped out?"
   ]
  },
  {
   "cell_type": "code",
   "execution_count": 9,
   "id": "f5a78237",
   "metadata": {
    "scrolled": true
   },
   "outputs": [],
   "source": [
    "n_active = (students['status'] == 'ACTIVE').sum()\n",
    "n_dropout = (students['status'] == 'DROPOUT').sum()\n",
    "n_complete = (students['status'] == 'COMPLETE').sum()\n",
    "total = n_active + n_dropout + n_complete"
   ]
  },
  {
   "cell_type": "code",
   "execution_count": 10,
   "id": "a5bd21ca",
   "metadata": {},
   "outputs": [
    {
     "data": {
      "image/png": "[encoded data removed]",
      "text/plain": [
       "<Figure size 576x288 with 1 Axes>"
      ]
     },
     "metadata": {
      "needs_background": "light"
     },
     "output_type": "display_data"
    }
   ],
   "source": [
    "values = [total, n_active, n_dropout, n_complete]\n",
    "labels = ['Total Admissions', 'Active Students', 'Dropouts', 'Completed Course']\n",
    "\n",
    "colours = sns.color_palette('pastel')\n",
    "palette = [colours[0], colours[2], colours[3], colours[1]]\n",
    "\n",
    "plt.figure(figsize=(8, 4))\n",
    "ax = sns.barplot(x=labels,\n",
    "                y=values, \n",
    "                palette=palette)\n",
    "ax.bar_label(ax.containers[0]);"
   ]
  },
  {
   "cell_type": "markdown",
   "id": "7883ec68",
   "metadata": {},
   "source": [
    "### What is the distribution of student dropouts along different points in the journey of the course?"
   ]
  },
  {
   "cell_type": "markdown",
   "id": "3227ae6a",
   "metadata": {},
   "source": [
    "#### Cleaning the payments info to get drop-out rates monthly"
   ]
  },
  {
   "cell_type": "code",
   "execution_count": 11,
   "id": "2147d88b",
   "metadata": {},
   "outputs": [],
   "source": [
    "payments['receipt_date'] = payments['receipt_date'].apply(helper.str_to_datetime)"
   ]
  },
  {
   "cell_type": "code",
   "execution_count": 12,
   "id": "5d2fee4a",
   "metadata": {},
   "outputs": [],
   "source": [
    "payments['receipt_month'] = payments['receipt_date'].dt.month\n",
    "payments['receipt_year'] = payments['receipt_date'].dt.year"
   ]
  },
  {
   "cell_type": "markdown",
   "id": "84cb3e31",
   "metadata": {},
   "source": [
    "For each student, pull out the first date of receipt, last date of receipt, time spent in course"
   ]
  },
  {
   "cell_type": "code",
   "execution_count": 13,
   "id": "997c06a0",
   "metadata": {},
   "outputs": [],
   "source": [
    "student_payment_info = pd.concat([payments.groupby('student_name')['receipt_date'].first(),\n",
    "                                  payments.groupby('student_name')['receipt_date'].last(),\n",
    "                                 ], axis=1)\n",
    "\n",
    "student_payment_info.columns = ['first_fee_date', 'last_fee_date']\n",
    "student_payment_info = student_payment_info.reset_index()\n",
    "\n",
    "student_payment_info['time_in_course'] = (student_payment_info['last_fee_date']\\\n",
    "                                        - student_payment_info['first_fee_date']).dt.days/30"
   ]
  },
  {
   "cell_type": "code",
   "execution_count": 14,
   "id": "727f6137",
   "metadata": {},
   "outputs": [
    {
     "data": {
      "text/html": [
       "<div>\n",
       "<style scoped>\n",
       "    .dataframe tbody tr th:only-of-type {\n",
       "        vertical-align: middle;\n",
       "    }\n",
       "\n",
       "    .dataframe tbody tr th {\n",
       "        vertical-align: top;\n",
       "    }\n",
       "\n",
       "    .dataframe thead th {\n",
       "        text-align: right;\n",
       "    }\n",
       "</style>\n",
       "<table border=\"1\" class=\"dataframe\">\n",
       "  <thead>\n",
       "    <tr style=\"text-align: right;\">\n",
       "      <th></th>\n",
       "      <th>student_name</th>\n",
       "      <th>first_fee_date</th>\n",
       "      <th>last_fee_date</th>\n",
       "      <th>time_in_course</th>\n",
       "    </tr>\n",
       "  </thead>\n",
       "  <tbody>\n",
       "    <tr>\n",
       "      <th>0</th>\n",
       "      <td>A G SAMIK SINGH</td>\n",
       "      <td>2019-08-20</td>\n",
       "      <td>2019-08-20</td>\n",
       "      <td>0.000000</td>\n",
       "    </tr>\n",
       "    <tr>\n",
       "      <th>1</th>\n",
       "      <td>A R SHRADHA</td>\n",
       "      <td>2021-12-24</td>\n",
       "      <td>2021-12-24</td>\n",
       "      <td>0.000000</td>\n",
       "    </tr>\n",
       "    <tr>\n",
       "      <th>2</th>\n",
       "      <td>A V HRUSHIKESH</td>\n",
       "      <td>2019-04-15</td>\n",
       "      <td>2019-06-09</td>\n",
       "      <td>1.833333</td>\n",
       "    </tr>\n",
       "    <tr>\n",
       "      <th>3</th>\n",
       "      <td>AADARSH C</td>\n",
       "      <td>2019-08-01</td>\n",
       "      <td>2019-10-05</td>\n",
       "      <td>2.166667</td>\n",
       "    </tr>\n",
       "    <tr>\n",
       "      <th>4</th>\n",
       "      <td>AADHYA RAJESH</td>\n",
       "      <td>2021-02-10</td>\n",
       "      <td>2021-03-15</td>\n",
       "      <td>1.100000</td>\n",
       "    </tr>\n",
       "  </tbody>\n",
       "</table>\n",
       "</div>"
      ],
      "text/plain": [
       "      student_name first_fee_date last_fee_date  time_in_course\n",
       "0  A G SAMIK SINGH     2019-08-20    2019-08-20        0.000000\n",
       "1      A R SHRADHA     2021-12-24    2021-12-24        0.000000\n",
       "2   A V HRUSHIKESH     2019-04-15    2019-06-09        1.833333\n",
       "3        AADARSH C     2019-08-01    2019-10-05        2.166667\n",
       "4    AADHYA RAJESH     2021-02-10    2021-03-15        1.100000"
      ]
     },
     "execution_count": 14,
     "metadata": {},
     "output_type": "execute_result"
    }
   ],
   "source": [
    "student_payment_info.head()"
   ]
  },
  {
   "cell_type": "markdown",
   "id": "e92481bb",
   "metadata": {},
   "source": [
    "We can consider last fee date as a proxy for the date of dropout. "
   ]
  },
  {
   "cell_type": "code",
   "execution_count": 15,
   "id": "0eaddef5",
   "metadata": {},
   "outputs": [
    {
     "data": {
      "image/png": "[encoded data removed]",
      "text/plain": [
       "<Figure size 360x360 with 1 Axes>"
      ]
     },
     "metadata": {
      "needs_background": "light"
     },
     "output_type": "display_data"
    }
   ],
   "source": [
    "sns.displot(student_payment_info['time_in_course'], bins=4)\n",
    "plt.xlabel('Months in course')\n",
    "plt.ylabel('Number of Students');"
   ]
  },
  {
   "cell_type": "markdown",
   "id": "b19fa04e",
   "metadata": {},
   "source": [
    "We can see that most of the students have spent 10 months or less in the course. Which means, most students have not progressed beyond level 3. \n",
    "\n",
    "Let's look at how many of them have dropped out."
   ]
  },
  {
   "cell_type": "code",
   "execution_count": 16,
   "id": "08155093",
   "metadata": {},
   "outputs": [],
   "source": [
    "dropout_list = students[students['status'] == 'DROPOUT']['student_name'].tolist()\n",
    "active_list = students[students['status'] == 'ACTIVE']['student_name'].tolist()"
   ]
  },
  {
   "cell_type": "code",
   "execution_count": 17,
   "id": "77395b70",
   "metadata": {},
   "outputs": [],
   "source": [
    "# What is the duration distribution for dropout students?\n",
    "dropout_payment_info = student_payment_info[student_payment_info['student_name'].isin(dropout_list)]\n",
    "active_payment_info = student_payment_info[student_payment_info['student_name'].isin(active_list)]"
   ]
  },
  {
   "cell_type": "code",
   "execution_count": 18,
   "id": "81d8be7a",
   "metadata": {},
   "outputs": [
    {
     "data": {
      "image/png": "[encoded data removed]",
      "text/plain": [
       "<Figure size 360x360 with 1 Axes>"
      ]
     },
     "metadata": {
      "needs_background": "light"
     },
     "output_type": "display_data"
    }
   ],
   "source": [
    "sns.displot(dropout_payment_info['time_in_course'], bins=16)\n",
    "plt.title('Time spent in course for Dropouts')\n",
    "plt.xlabel('Months in course')\n",
    "plt.ylabel('Number of Students');"
   ]
  },
  {
   "cell_type": "code",
   "execution_count": 19,
   "id": "9bcf93d6",
   "metadata": {},
   "outputs": [
    {
     "data": {
      "image/png": "[encoded data removed]",
      "text/plain": [
       "<Figure size 360x360 with 1 Axes>"
      ]
     },
     "metadata": {
      "needs_background": "light"
     },
     "output_type": "display_data"
    }
   ],
   "source": [
    "sns.displot(active_payment_info['time_in_course'], bins=16)\n",
    "plt.title('Time spent in course for Active Students')\n",
    "plt.xlabel('Months in course')\n",
    "plt.ylabel('Number of Students');"
   ]
  },
  {
   "cell_type": "markdown",
   "id": "e8d71af1",
   "metadata": {},
   "source": [
    "It's clear from the above graphs that for dropouts, most of them had spent less than 10 months in the course.\n",
    "Active students are a bit more spread out comparatively. "
   ]
  },
  {
   "cell_type": "markdown",
   "id": "7cafedb8",
   "metadata": {},
   "source": [
    "### Q2. What is the distribution of student dropouts along different points in the journey of the course?"
   ]
  },
  {
   "cell_type": "code",
   "execution_count": 21,
   "id": "a26956f5",
   "metadata": {},
   "outputs": [],
   "source": [
    "dropout_payment_info['duration_cat'] = dropout_payment_info['time_in_course'].apply(helper.categorise_duration)"
   ]
  },
  {
   "cell_type": "code",
   "execution_count": 22,
   "id": "b241bb6f",
   "metadata": {},
   "outputs": [],
   "source": [
    "dropout_time = dropout_payment_info['duration_cat'].value_counts().sort_index().reset_index()"
   ]
  },
  {
   "cell_type": "code",
   "execution_count": 24,
   "id": "2ea44343",
   "metadata": {},
   "outputs": [],
   "source": [
    "dropout_time['clean_index'] = dropout_time['index'].apply(lambda x: '-'.join([i.lstrip('0') if i != '00' else '0' for i in x.split('-')]))"
   ]
  },
  {
   "cell_type": "code",
   "execution_count": 25,
   "id": "e7ed96fc",
   "metadata": {},
   "outputs": [
    {
     "data": {
      "image/png": "[encoded data removed]",
      "text/plain": [
       "<Figure size 1080x504 with 1 Axes>"
      ]
     },
     "metadata": {
      "needs_background": "light"
     },
     "output_type": "display_data"
    }
   ],
   "source": [
    "plt.figure(figsize=(15, 7))\n",
    "ax = sns.barplot(data=dropout_time, x='clean_index', y='duration_cat', palette=colours)\n",
    "plt.xlabel('Time spent in course')\n",
    "plt.ylabel('# of dropouts')\n",
    "plt.xticks(rotation=45)\n",
    "plt.yticks([])\n",
    "ax.bar_label(ax.containers[0]);"
   ]
  },
  {
   "cell_type": "markdown",
   "id": "94a48235",
   "metadata": {},
   "source": [
    "Here, it's clearly visible to use that most of the student dropouts are happening within the first 4 months of the course i.e. during the 1st level of the program. "
   ]
  },
  {
   "cell_type": "markdown",
   "id": "ec4e5e1f",
   "metadata": {},
   "source": [
    "### Q3. How has the admission rate changed over the last 3 years?\n",
    "Is the admission distributed evenly across all months? Or is there some seasonality of sorts?"
   ]
  },
  {
   "cell_type": "code",
   "execution_count": 26,
   "id": "fe0d9c94",
   "metadata": {},
   "outputs": [],
   "source": [
    "students = students.dropna(subset=['admission_dt'])"
   ]
  },
  {
   "cell_type": "code",
   "execution_count": 27,
   "id": "92003938",
   "metadata": {},
   "outputs": [],
   "source": [
    "students['admission_month'] = students['admission_dt'].dt.month\n",
    "students['admission_year'] = students['admission_dt'].dt.year"
   ]
  },
  {
   "cell_type": "code",
   "execution_count": 28,
   "id": "8366e673",
   "metadata": {},
   "outputs": [],
   "source": [
    "admissions_monthly = students.groupby(['admission_year', 'admission_month'])['student_name'].count().reset_index()"
   ]
  },
  {
   "cell_type": "code",
   "execution_count": 29,
   "id": "0a375423",
   "metadata": {},
   "outputs": [
    {
     "data": {
      "image/png": "[encoded data removed]",
      "text/plain": [
       "<Figure size 1080x360 with 3 Axes>"
      ]
     },
     "metadata": {
      "needs_background": "light"
     },
     "output_type": "display_data"
    }
   ],
   "source": [
    "fig, ax = plt.subplots(nrows=1, ncols=3, figsize=(15, 5))\n",
    "for i, year in enumerate(range(2019, 2022)):\n",
    "    adm = admissions_monthly[admissions_monthly['admission_year'] == year]\n",
    "    ax[i].set_title(year)\n",
    "    sns.barplot(data=adm, x='admission_month', y='student_name', palette=colours, ax=ax[i])\n",
    "    ax[i].set_ylabel('')"
   ]
  },
  {
   "cell_type": "markdown",
   "id": "d40fc5aa",
   "metadata": {},
   "source": [
    "It's hard to discern any monthly seasonality here, it seems to be kind of randomly distributed.\n",
    "Although, it can be noted that there have been NO admissions in the month of April. "
   ]
  },
  {
   "cell_type": "markdown",
   "id": "c4b58a0a",
   "metadata": {},
   "source": [
    "**How has the admission rate has changed over the last 3 years?**"
   ]
  },
  {
   "cell_type": "code",
   "execution_count": 30,
   "id": "3649c134",
   "metadata": {},
   "outputs": [],
   "source": [
    "admission_yearly = admissions_monthly.groupby('admission_year')['student_name'].sum().reset_index()\n",
    "admission_yearly = admission_yearly[admission_yearly['admission_year'] > 2018]"
   ]
  },
  {
   "cell_type": "code",
   "execution_count": 31,
   "id": "879478f0",
   "metadata": {},
   "outputs": [
    {
     "data": {
      "image/png": "[encoded data removed]",
      "text/plain": [
       "<Figure size 432x288 with 1 Axes>"
      ]
     },
     "metadata": {
      "needs_background": "light"
     },
     "output_type": "display_data"
    }
   ],
   "source": [
    "ax = sns.barplot(data=admission_yearly, x='admission_year', y='student_name', palette=colours)\n",
    "plt.ylabel('# of Admissions')\n",
    "plt.xlabel('Year')\n",
    "ax.bar_label(ax.containers[0]);"
   ]
  },
  {
   "cell_type": "markdown",
   "id": "1289b678",
   "metadata": {},
   "source": [
    "We see that the number of new admissions has been going down year-on-year. This is a worrying trend."
   ]
  },
  {
   "cell_type": "markdown",
   "id": "b77cb9b9",
   "metadata": {},
   "source": [
    "### Other considerations (for future analysis)"
   ]
  },
  {
   "cell_type": "markdown",
   "id": "6f96855b",
   "metadata": {},
   "source": [
    "Few questions we might be interested in answering:\n",
    "1. Which level do students mostly dropouts in?\n",
    "2. What are the months where most dropouts occur?\n",
    "3. What are the months where most admissions happen?\n",
    "4. Teacher x Level x Drop-Out rate?\n",
    "5. Top Schools\n",
    "6. Top Sources of enquiry/admission\n",
    "7. Distribution of (dropout date - course start date)\n",
    "8. Relation between students per batch and dropout rate?\n",
    "9. Batch-wise dropout? Higher dropout if students in batch from different schools? Or no?"
   ]
  }
 ],
 "metadata": {
  "kernelspec": {
   "display_name": "Python 3 (ipykernel)",
   "language": "python",
   "name": "python3"
  },
  "language_info": {
   "codemirror_mode": {
    "name": "ipython",
    "version": 3
   },
   "file_extension": ".py",
   "mimetype": "text/x-python",
   "name": "python",
   "nbconvert_exporter": "python",
   "pygments_lexer": "ipython3",
   "version": "3.8.12"
  }
 },
 "nbformat": 4,
 "nbformat_minor": 5
}
