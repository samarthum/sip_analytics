{
 "cells": [
  {
   "cell_type": "code",
   "execution_count": 1,
   "id": "03e833b6",
   "metadata": {},
   "outputs": [],
   "source": [
    "import warnings\n",
    "warnings.filterwarnings('ignore')\n",
    "import os\n",
    "import pandas as pd\n",
    "import numpy as np\n",
    "import datetime\n",
    "import calendar\n",
    "\n",
    "import matplotlib.pyplot as plt \n",
    "import seaborn as sns\n",
    "\n",
    "from pathlib import Path\n",
    "\n",
    "PATH = Path(os.getcwd()).parent\n",
    "os.chdir(PATH)\n",
    "from src.helper import *\n",
    "\n",
    "%matplotlib inline"
   ]
  },
  {
   "cell_type": "markdown",
   "id": "f24c78f5",
   "metadata": {},
   "source": [
    "### Data Prep"
   ]
  },
  {
   "cell_type": "code",
   "execution_count": 2,
   "id": "bd19258c",
   "metadata": {},
   "outputs": [],
   "source": [
    "# Analyse student history data\n",
    "path = 'karnataka_monthly_royalty.xlsx'\n",
    "\n",
    "df = read_file(path)"
   ]
  },
  {
   "cell_type": "code",
   "execution_count": 3,
   "id": "a0e83dd5",
   "metadata": {
    "scrolled": false
   },
   "outputs": [
    {
     "data": {
      "text/html": [
       "<div>\n",
       "<style scoped>\n",
       "    .dataframe tbody tr th:only-of-type {\n",
       "        vertical-align: middle;\n",
       "    }\n",
       "\n",
       "    .dataframe tbody tr th {\n",
       "        vertical-align: top;\n",
       "    }\n",
       "\n",
       "    .dataframe thead th {\n",
       "        text-align: right;\n",
       "    }\n",
       "</style>\n",
       "<table border=\"1\" class=\"dataframe\">\n",
       "  <thead>\n",
       "    <tr style=\"text-align: right;\">\n",
       "      <th></th>\n",
       "      <th>s.no</th>\n",
       "      <th>region</th>\n",
       "      <th>state</th>\n",
       "      <th>area_name</th>\n",
       "      <th>lcl_code</th>\n",
       "      <th>lcl_name</th>\n",
       "      <th>location_name</th>\n",
       "      <th>student_name</th>\n",
       "      <th>student_code</th>\n",
       "      <th>school_name</th>\n",
       "      <th>invoice_no</th>\n",
       "      <th>invoice_date</th>\n",
       "      <th>invoice_month</th>\n",
       "      <th>receipt_date</th>\n",
       "      <th>payment_mode</th>\n",
       "      <th>course_fee</th>\n",
       "      <th>receipt_amt</th>\n",
       "      <th>discount_amt</th>\n",
       "      <th>late_fee</th>\n",
       "      <th>royalty_fee</th>\n",
       "    </tr>\n",
       "  </thead>\n",
       "  <tbody>\n",
       "    <tr>\n",
       "      <th>0</th>\n",
       "      <td>1.0</td>\n",
       "      <td>NaN</td>\n",
       "      <td>KARNATAKA</td>\n",
       "      <td>KARNATAKA</td>\n",
       "      <td>6404.0</td>\n",
       "      <td>BHARGAVI GOUTHAMI P</td>\n",
       "      <td>SIP ABACUS -  KENGERI</td>\n",
       "      <td>ABHI KRISHNA R GOWDA</td>\n",
       "      <td>SA640415136</td>\n",
       "      <td>NaN</td>\n",
       "      <td>AINV20214770</td>\n",
       "      <td>02-01-2021</td>\n",
       "      <td>JAN-21</td>\n",
       "      <td>21-01-2021</td>\n",
       "      <td>CASH</td>\n",
       "      <td>1300.0</td>\n",
       "      <td>1300.0</td>\n",
       "      <td>0.0</td>\n",
       "      <td>0.0</td>\n",
       "      <td>355.0</td>\n",
       "    </tr>\n",
       "    <tr>\n",
       "      <th>1</th>\n",
       "      <td>2.0</td>\n",
       "      <td>NaN</td>\n",
       "      <td>NaN</td>\n",
       "      <td>NaN</td>\n",
       "      <td>NaN</td>\n",
       "      <td>NaN</td>\n",
       "      <td>NaN</td>\n",
       "      <td>PRAJWAL C GOWDA</td>\n",
       "      <td>SA640417175</td>\n",
       "      <td>NaN</td>\n",
       "      <td>AINV20214771</td>\n",
       "      <td>02-01-2021</td>\n",
       "      <td>JAN-21</td>\n",
       "      <td>24-01-2021</td>\n",
       "      <td>CASH</td>\n",
       "      <td>1300.0</td>\n",
       "      <td>1300.0</td>\n",
       "      <td>0.0</td>\n",
       "      <td>0.0</td>\n",
       "      <td>355.0</td>\n",
       "    </tr>\n",
       "    <tr>\n",
       "      <th>2</th>\n",
       "      <td>3.0</td>\n",
       "      <td>NaN</td>\n",
       "      <td>NaN</td>\n",
       "      <td>NaN</td>\n",
       "      <td>NaN</td>\n",
       "      <td>NaN</td>\n",
       "      <td>NaN</td>\n",
       "      <td>DISHA R</td>\n",
       "      <td>SA640418006</td>\n",
       "      <td>NaN</td>\n",
       "      <td>AINV20214772</td>\n",
       "      <td>02-01-2021</td>\n",
       "      <td>JAN-21</td>\n",
       "      <td>24-01-2021</td>\n",
       "      <td>CASH</td>\n",
       "      <td>1300.0</td>\n",
       "      <td>1300.0</td>\n",
       "      <td>0.0</td>\n",
       "      <td>0.0</td>\n",
       "      <td>355.0</td>\n",
       "    </tr>\n",
       "    <tr>\n",
       "      <th>3</th>\n",
       "      <td>4.0</td>\n",
       "      <td>NaN</td>\n",
       "      <td>NaN</td>\n",
       "      <td>NaN</td>\n",
       "      <td>NaN</td>\n",
       "      <td>NaN</td>\n",
       "      <td>NaN</td>\n",
       "      <td>VIBHU P HIREMATH</td>\n",
       "      <td>SJ640418015</td>\n",
       "      <td>SJR SCHOOL</td>\n",
       "      <td>AINV20214773</td>\n",
       "      <td>02-01-2021</td>\n",
       "      <td>JAN-21</td>\n",
       "      <td>31-01-2021</td>\n",
       "      <td>CASH</td>\n",
       "      <td>1300.0</td>\n",
       "      <td>1300.0</td>\n",
       "      <td>0.0</td>\n",
       "      <td>0.0</td>\n",
       "      <td>355.0</td>\n",
       "    </tr>\n",
       "    <tr>\n",
       "      <th>4</th>\n",
       "      <td>5.0</td>\n",
       "      <td>NaN</td>\n",
       "      <td>NaN</td>\n",
       "      <td>NaN</td>\n",
       "      <td>NaN</td>\n",
       "      <td>NaN</td>\n",
       "      <td>NaN</td>\n",
       "      <td>AYUSHREE S K</td>\n",
       "      <td>SJ640418022</td>\n",
       "      <td>SJR SCHOOL</td>\n",
       "      <td>AINV20214774</td>\n",
       "      <td>02-01-2021</td>\n",
       "      <td>JAN-21</td>\n",
       "      <td>21-01-2021</td>\n",
       "      <td>CASH</td>\n",
       "      <td>1300.0</td>\n",
       "      <td>1300.0</td>\n",
       "      <td>0.0</td>\n",
       "      <td>0.0</td>\n",
       "      <td>355.0</td>\n",
       "    </tr>\n",
       "  </tbody>\n",
       "</table>\n",
       "</div>"
      ],
      "text/plain": [
       "   s.no  region      state  area_name  lcl_code             lcl_name  \\\n",
       "0   1.0     NaN  KARNATAKA  KARNATAKA    6404.0  BHARGAVI GOUTHAMI P   \n",
       "1   2.0     NaN        NaN        NaN       NaN                  NaN   \n",
       "2   3.0     NaN        NaN        NaN       NaN                  NaN   \n",
       "3   4.0     NaN        NaN        NaN       NaN                  NaN   \n",
       "4   5.0     NaN        NaN        NaN       NaN                  NaN   \n",
       "\n",
       "           location_name          student_name student_code school_name  \\\n",
       "0  SIP ABACUS -  KENGERI  ABHI KRISHNA R GOWDA  SA640415136         NaN   \n",
       "1                    NaN       PRAJWAL C GOWDA  SA640417175         NaN   \n",
       "2                    NaN               DISHA R  SA640418006         NaN   \n",
       "3                    NaN      VIBHU P HIREMATH  SJ640418015  SJR SCHOOL   \n",
       "4                    NaN          AYUSHREE S K  SJ640418022  SJR SCHOOL   \n",
       "\n",
       "     invoice_no invoice_date invoice_month receipt_date payment_mode  \\\n",
       "0  AINV20214770   02-01-2021        JAN-21   21-01-2021         CASH   \n",
       "1  AINV20214771   02-01-2021        JAN-21   24-01-2021         CASH   \n",
       "2  AINV20214772   02-01-2021        JAN-21   24-01-2021         CASH   \n",
       "3  AINV20214773   02-01-2021        JAN-21   31-01-2021         CASH   \n",
       "4  AINV20214774   02-01-2021        JAN-21   21-01-2021         CASH   \n",
       "\n",
       "   course_fee  receipt_amt  discount_amt  late_fee  royalty_fee  \n",
       "0      1300.0       1300.0           0.0       0.0        355.0  \n",
       "1      1300.0       1300.0           0.0       0.0        355.0  \n",
       "2      1300.0       1300.0           0.0       0.0        355.0  \n",
       "3      1300.0       1300.0           0.0       0.0        355.0  \n",
       "4      1300.0       1300.0           0.0       0.0        355.0  "
      ]
     },
     "execution_count": 3,
     "metadata": {},
     "output_type": "execute_result"
    }
   ],
   "source": [
    "df.head()"
   ]
  },
  {
   "cell_type": "code",
   "execution_count": 4,
   "id": "3e16427e",
   "metadata": {},
   "outputs": [],
   "source": [
    "# Convert payment_mode to CASH and CHEQUE only\n",
    "df['payment_mode'] = df['payment_mode'].apply(clean_payment_mode)"
   ]
  },
  {
   "cell_type": "code",
   "execution_count": 5,
   "id": "4c08a186",
   "metadata": {},
   "outputs": [],
   "source": [
    "useful_cols = ['lcl_name', 'location_name', 'student_name', 'school_name', \n",
    "               'receipt_date', 'payment_mode', 'course_fee', 'receipt_amt', \n",
    "               'discount_amt', 'late_fee', 'royalty_fee']\n",
    "\n",
    "df = df[useful_cols]"
   ]
  },
  {
   "cell_type": "code",
   "execution_count": 6,
   "id": "a2690f8f",
   "metadata": {},
   "outputs": [],
   "source": [
    "df = df.dropna(subset=['student_name'])"
   ]
  },
  {
   "cell_type": "code",
   "execution_count": 7,
   "id": "c73dbcd0",
   "metadata": {},
   "outputs": [],
   "source": [
    "df = add_datetime_cols(df, 'receipt_date')"
   ]
  },
  {
   "cell_type": "code",
   "execution_count": 8,
   "id": "6e9aba44",
   "metadata": {},
   "outputs": [],
   "source": [
    "# Fill nulls under lcl_name and location_name\n",
    "\n",
    "df.loc[:, ['lcl_name', 'location_name']] = df[['lcl_name', 'location_name']].fillna(method='ffill')"
   ]
  },
  {
   "cell_type": "code",
   "execution_count": 9,
   "id": "3a95ecd2",
   "metadata": {},
   "outputs": [],
   "source": [
    "df = df.sort_values(by=['lcl_name', 'receipt_date'])"
   ]
  },
  {
   "cell_type": "code",
   "execution_count": 10,
   "id": "a921d7dc",
   "metadata": {
    "scrolled": true
   },
   "outputs": [
    {
     "data": {
      "text/html": [
       "<div>\n",
       "<style scoped>\n",
       "    .dataframe tbody tr th:only-of-type {\n",
       "        vertical-align: middle;\n",
       "    }\n",
       "\n",
       "    .dataframe tbody tr th {\n",
       "        vertical-align: top;\n",
       "    }\n",
       "\n",
       "    .dataframe thead th {\n",
       "        text-align: right;\n",
       "    }\n",
       "</style>\n",
       "<table border=\"1\" class=\"dataframe\">\n",
       "  <thead>\n",
       "    <tr style=\"text-align: right;\">\n",
       "      <th></th>\n",
       "      <th>lcl_name</th>\n",
       "      <th>location_name</th>\n",
       "      <th>student_name</th>\n",
       "      <th>school_name</th>\n",
       "      <th>receipt_date</th>\n",
       "      <th>payment_mode</th>\n",
       "      <th>course_fee</th>\n",
       "      <th>receipt_amt</th>\n",
       "      <th>discount_amt</th>\n",
       "      <th>late_fee</th>\n",
       "      <th>royalty_fee</th>\n",
       "      <th>receipt_month</th>\n",
       "      <th>receipt_year</th>\n",
       "    </tr>\n",
       "  </thead>\n",
       "  <tbody>\n",
       "    <tr>\n",
       "      <th>621</th>\n",
       "      <td>ANITHA RANI K M</td>\n",
       "      <td>SIP ABACUS -  CHAMARAJPET</td>\n",
       "      <td>VEDIKA R KUMAR</td>\n",
       "      <td>JNANODAYA</td>\n",
       "      <td>2021-01-01</td>\n",
       "      <td>CASH</td>\n",
       "      <td>1102.0</td>\n",
       "      <td>1300.36</td>\n",
       "      <td>0.0</td>\n",
       "      <td>0.0</td>\n",
       "      <td>291.0</td>\n",
       "      <td>1</td>\n",
       "      <td>2021</td>\n",
       "    </tr>\n",
       "    <tr>\n",
       "      <th>644</th>\n",
       "      <td>ANITHA RANI K M</td>\n",
       "      <td>SIP ABACUS -  CHAMARAJPET</td>\n",
       "      <td>LAVISHA JAIN</td>\n",
       "      <td>BRIGADE MILLENIUM</td>\n",
       "      <td>2021-01-01</td>\n",
       "      <td>CASH</td>\n",
       "      <td>1102.0</td>\n",
       "      <td>1300.36</td>\n",
       "      <td>0.0</td>\n",
       "      <td>0.0</td>\n",
       "      <td>291.0</td>\n",
       "      <td>1</td>\n",
       "      <td>2021</td>\n",
       "    </tr>\n",
       "    <tr>\n",
       "      <th>647</th>\n",
       "      <td>ANITHA RANI K M</td>\n",
       "      <td>SIP ABACUS -  CHAMARAJPET</td>\n",
       "      <td>SATHVIKA M</td>\n",
       "      <td>V V N</td>\n",
       "      <td>2021-01-01</td>\n",
       "      <td>CASH</td>\n",
       "      <td>1102.0</td>\n",
       "      <td>1300.36</td>\n",
       "      <td>0.0</td>\n",
       "      <td>0.0</td>\n",
       "      <td>291.0</td>\n",
       "      <td>1</td>\n",
       "      <td>2021</td>\n",
       "    </tr>\n",
       "    <tr>\n",
       "      <th>692</th>\n",
       "      <td>ANITHA RANI K M</td>\n",
       "      <td>SIP ABACUS -  CHAMARAJPET</td>\n",
       "      <td>ROHIT KRISHNAN L</td>\n",
       "      <td>NaN</td>\n",
       "      <td>2021-01-02</td>\n",
       "      <td>CASH</td>\n",
       "      <td>1102.0</td>\n",
       "      <td>1300.36</td>\n",
       "      <td>0.0</td>\n",
       "      <td>0.0</td>\n",
       "      <td>291.0</td>\n",
       "      <td>1</td>\n",
       "      <td>2021</td>\n",
       "    </tr>\n",
       "    <tr>\n",
       "      <th>1000</th>\n",
       "      <td>ANITHA RANI K M</td>\n",
       "      <td>SIP ABACUS -  CHAMARAJPET</td>\n",
       "      <td>HARSHVARDHAN K JAIN</td>\n",
       "      <td>SRI AUROBINDO MEMORIAL SCHOOL</td>\n",
       "      <td>2021-01-02</td>\n",
       "      <td>CASH</td>\n",
       "      <td>1102.0</td>\n",
       "      <td>1300.36</td>\n",
       "      <td>0.0</td>\n",
       "      <td>0.0</td>\n",
       "      <td>291.0</td>\n",
       "      <td>1</td>\n",
       "      <td>2021</td>\n",
       "    </tr>\n",
       "  </tbody>\n",
       "</table>\n",
       "</div>"
      ],
      "text/plain": [
       "             lcl_name               location_name         student_name  \\\n",
       "621   ANITHA RANI K M  SIP ABACUS -  CHAMARAJPET        VEDIKA R KUMAR   \n",
       "644   ANITHA RANI K M  SIP ABACUS -  CHAMARAJPET          LAVISHA JAIN   \n",
       "647   ANITHA RANI K M  SIP ABACUS -  CHAMARAJPET            SATHVIKA M   \n",
       "692   ANITHA RANI K M  SIP ABACUS -  CHAMARAJPET      ROHIT KRISHNAN L   \n",
       "1000  ANITHA RANI K M  SIP ABACUS -  CHAMARAJPET   HARSHVARDHAN K JAIN   \n",
       "\n",
       "                        school_name receipt_date payment_mode  course_fee  \\\n",
       "621                      JNANODAYA    2021-01-01         CASH      1102.0   \n",
       "644               BRIGADE MILLENIUM   2021-01-01         CASH      1102.0   \n",
       "647                           V V N   2021-01-01         CASH      1102.0   \n",
       "692                             NaN   2021-01-02         CASH      1102.0   \n",
       "1000  SRI AUROBINDO MEMORIAL SCHOOL   2021-01-02         CASH      1102.0   \n",
       "\n",
       "      receipt_amt  discount_amt  late_fee  royalty_fee  receipt_month  \\\n",
       "621       1300.36           0.0       0.0        291.0              1   \n",
       "644       1300.36           0.0       0.0        291.0              1   \n",
       "647       1300.36           0.0       0.0        291.0              1   \n",
       "692       1300.36           0.0       0.0        291.0              1   \n",
       "1000      1300.36           0.0       0.0        291.0              1   \n",
       "\n",
       "      receipt_year  \n",
       "621           2021  \n",
       "644           2021  \n",
       "647           2021  \n",
       "692           2021  \n",
       "1000          2021  "
      ]
     },
     "execution_count": 10,
     "metadata": {},
     "output_type": "execute_result"
    }
   ],
   "source": [
    "df.head()"
   ]
  },
  {
   "cell_type": "markdown",
   "id": "9d79537d",
   "metadata": {},
   "source": [
    "### Basic Questions"
   ]
  },
  {
   "cell_type": "code",
   "execution_count": 11,
   "id": "66c3d8ff",
   "metadata": {},
   "outputs": [],
   "source": [
    "YEAR = 2021\n",
    "df = df[df['receipt_year'] == YEAR].reset_index(drop=True)"
   ]
  },
  {
   "cell_type": "markdown",
   "id": "92772c5b",
   "metadata": {},
   "source": [
    "**How many LCLs are there as of 2021?**"
   ]
  },
  {
   "cell_type": "code",
   "execution_count": 12,
   "id": "baf883a6",
   "metadata": {
    "scrolled": true
   },
   "outputs": [
    {
     "data": {
      "text/plain": [
       "18"
      ]
     },
     "execution_count": 12,
     "metadata": {},
     "output_type": "execute_result"
    }
   ],
   "source": [
    "df['lcl_name'].nunique()"
   ]
  },
  {
   "cell_type": "markdown",
   "id": "04e6d5fa",
   "metadata": {},
   "source": [
    "**How many centers are there?**"
   ]
  },
  {
   "cell_type": "code",
   "execution_count": 13,
   "id": "9e56fadd",
   "metadata": {},
   "outputs": [
    {
     "data": {
      "text/plain": [
       "31"
      ]
     },
     "execution_count": 13,
     "metadata": {},
     "output_type": "execute_result"
    }
   ],
   "source": [
    "df['location_name'].nunique()"
   ]
  },
  {
   "cell_type": "markdown",
   "id": "0063ccd3",
   "metadata": {},
   "source": [
    "**How many students paid fees in 2021?**"
   ]
  },
  {
   "cell_type": "code",
   "execution_count": 14,
   "id": "29a710a2",
   "metadata": {
    "scrolled": true
   },
   "outputs": [
    {
     "data": {
      "text/plain": [
       "4155"
      ]
     },
     "execution_count": 14,
     "metadata": {},
     "output_type": "execute_result"
    }
   ],
   "source": [
    "df['student_name'].nunique()"
   ]
  },
  {
   "cell_type": "markdown",
   "id": "7e2808a6",
   "metadata": {},
   "source": [
    "**How did the number of students who paid the fees paid vary over months?**"
   ]
  },
  {
   "cell_type": "code",
   "execution_count": 15,
   "id": "76c4b56d",
   "metadata": {},
   "outputs": [],
   "source": [
    "student_count_monthly = student_monthly_dist(df)"
   ]
  },
  {
   "cell_type": "code",
   "execution_count": 16,
   "id": "8d747b63",
   "metadata": {
    "scrolled": false
   },
   "outputs": [
    {
     "data": {
      "image/png": "[encoded data removed]",
      "text/plain": [
       "<Figure size 432x288 with 1 Axes>"
      ]
     },
     "metadata": {
      "needs_background": "light"
     },
     "output_type": "display_data"
    }
   ],
   "source": [
    "# Plot\n",
    "sns.barplot(data=student_count_monthly, x='receipt_month', y='student_name')\n",
    "plt.title(f'# Students across {YEAR}')\n",
    "plt.xlabel(f'Month (in {YEAR})')\n",
    "plt.ylabel('Count of Students');"
   ]
  },
  {
   "cell_type": "markdown",
   "id": "47785413",
   "metadata": {},
   "source": [
    "**What is the total royalty earned by SIP Karnataka in 2021?**"
   ]
  },
  {
   "cell_type": "code",
   "execution_count": 17,
   "id": "4f127e01",
   "metadata": {},
   "outputs": [],
   "source": [
    "total_royalty_earned = round(df[df['receipt_year'] == 2021]['royalty_fee'].sum(), 2)"
   ]
  },
  {
   "cell_type": "code",
   "execution_count": 18,
   "id": "63f9ba97",
   "metadata": {
    "scrolled": true
   },
   "outputs": [
    {
     "data": {
      "text/plain": [
       "9954168.12"
      ]
     },
     "execution_count": 18,
     "metadata": {},
     "output_type": "execute_result"
    }
   ],
   "source": [
    "total_royalty_earned"
   ]
  },
  {
   "cell_type": "markdown",
   "id": "b04fe0dd",
   "metadata": {},
   "source": [
    "**How did the royalty earned vary over the months?**"
   ]
  },
  {
   "cell_type": "code",
   "execution_count": 19,
   "id": "b7d810d2",
   "metadata": {},
   "outputs": [],
   "source": [
    "royalty_monthly = df.groupby('receipt_month')['royalty_fee'].sum().reset_index()\n",
    "royalty_monthly.loc[:, 'receipt_month'] = royalty_monthly['receipt_month'].apply(lambda x: calendar.month_abbr[x])\n",
    "\n",
    "royalty_monthly['royalty_fee'] = royalty_monthly['royalty_fee']/100000"
   ]
  },
  {
   "cell_type": "code",
   "execution_count": 20,
   "id": "dd215e8e",
   "metadata": {
    "scrolled": false
   },
   "outputs": [
    {
     "data": {
      "image/png": "[encoded data removed]",
      "text/plain": [
       "<Figure size 432x288 with 1 Axes>"
      ]
     },
     "metadata": {
      "needs_background": "light"
     },
     "output_type": "display_data"
    }
   ],
   "source": [
    "# Plot\n",
    "sns.barplot(data=royalty_monthly, x='receipt_month', y='royalty_fee')\n",
    "plt.title(f'Royalty collected across {YEAR}')\n",
    "plt.xlabel(f'Month (in {YEAR})')\n",
    "plt.ylabel('Royalty Collected (in Lakhs)');"
   ]
  },
  {
   "cell_type": "markdown",
   "id": "c654d17f",
   "metadata": {},
   "source": [
    "Notes:\n",
    "1. Jan royalty seems especially low. Can dig in a bit deeper into why this happened.\n",
    "2. July and October royalties are significantly higher than Jan (2x)"
   ]
  },
  {
   "cell_type": "markdown",
   "id": "ba094b5b",
   "metadata": {},
   "source": [
    "As an aside, student count is a good proxy for royalty paid. Rather, royalty is a simple function of # students."
   ]
  },
  {
   "cell_type": "markdown",
   "id": "b7283468",
   "metadata": {},
   "source": [
    "**Which are the top 10 centers in terms of student count, royalty?**"
   ]
  },
  {
   "cell_type": "code",
   "execution_count": 21,
   "id": "44be6d83",
   "metadata": {},
   "outputs": [
    {
     "data": {
      "text/html": [
       "<div>\n",
       "<style scoped>\n",
       "    .dataframe tbody tr th:only-of-type {\n",
       "        vertical-align: middle;\n",
       "    }\n",
       "\n",
       "    .dataframe tbody tr th {\n",
       "        vertical-align: top;\n",
       "    }\n",
       "\n",
       "    .dataframe thead th {\n",
       "        text-align: right;\n",
       "    }\n",
       "</style>\n",
       "<table border=\"1\" class=\"dataframe\">\n",
       "  <thead>\n",
       "    <tr style=\"text-align: right;\">\n",
       "      <th></th>\n",
       "      <th>location_name</th>\n",
       "      <th>student_name</th>\n",
       "    </tr>\n",
       "  </thead>\n",
       "  <tbody>\n",
       "    <tr>\n",
       "      <th>0</th>\n",
       "      <td>SIP ABACUS -  CHAMARAJPET</td>\n",
       "      <td>660</td>\n",
       "    </tr>\n",
       "    <tr>\n",
       "      <th>1</th>\n",
       "      <td>SIP ABACUS -  UTTARAHALLI</td>\n",
       "      <td>620</td>\n",
       "    </tr>\n",
       "    <tr>\n",
       "      <th>2</th>\n",
       "      <td>SIP ABACUS -  VIJAYA NAGAR</td>\n",
       "      <td>463</td>\n",
       "    </tr>\n",
       "    <tr>\n",
       "      <th>3</th>\n",
       "      <td>SIP ABACUS -  RANEBENNUR</td>\n",
       "      <td>423</td>\n",
       "    </tr>\n",
       "    <tr>\n",
       "      <th>4</th>\n",
       "      <td>SIP ABACUS -   KASAVANAHALLI</td>\n",
       "      <td>365</td>\n",
       "    </tr>\n",
       "    <tr>\n",
       "      <th>5</th>\n",
       "      <td>SIP ABACUS -  BASAVANAGUDI</td>\n",
       "      <td>263</td>\n",
       "    </tr>\n",
       "    <tr>\n",
       "      <th>6</th>\n",
       "      <td>SIP ABACUS -  PATIL NAGAR</td>\n",
       "      <td>219</td>\n",
       "    </tr>\n",
       "    <tr>\n",
       "      <th>7</th>\n",
       "      <td>SIP ABACUS -  HOSAKEREHALLI</td>\n",
       "      <td>186</td>\n",
       "    </tr>\n",
       "    <tr>\n",
       "      <th>8</th>\n",
       "      <td>SIP ABACUS -  JAYA NAGAR</td>\n",
       "      <td>177</td>\n",
       "    </tr>\n",
       "    <tr>\n",
       "      <th>9</th>\n",
       "      <td>Sip Abacus-  Banashankari</td>\n",
       "      <td>146</td>\n",
       "    </tr>\n",
       "  </tbody>\n",
       "</table>\n",
       "</div>"
      ],
      "text/plain": [
       "                  location_name  student_name\n",
       "0    SIP ABACUS -  CHAMARAJPET            660\n",
       "1     SIP ABACUS -  UTTARAHALLI           620\n",
       "2    SIP ABACUS -  VIJAYA NAGAR           463\n",
       "3      SIP ABACUS -  RANEBENNUR           423\n",
       "4  SIP ABACUS -   KASAVANAHALLI           365\n",
       "5    SIP ABACUS -  BASAVANAGUDI           263\n",
       "6     SIP ABACUS -  PATIL NAGAR           219\n",
       "7   SIP ABACUS -  HOSAKEREHALLI           186\n",
       "8      SIP ABACUS -  JAYA NAGAR           177\n",
       "9     Sip Abacus-  Banashankari           146"
      ]
     },
     "execution_count": 21,
     "metadata": {},
     "output_type": "execute_result"
    }
   ],
   "source": [
    "df.groupby('location_name')['student_name'].nunique().sort_values(ascending=False).reset_index().head(10)"
   ]
  },
  {
   "cell_type": "code",
   "execution_count": 22,
   "id": "05820daf",
   "metadata": {},
   "outputs": [
    {
     "data": {
      "text/html": [
       "<div>\n",
       "<style scoped>\n",
       "    .dataframe tbody tr th:only-of-type {\n",
       "        vertical-align: middle;\n",
       "    }\n",
       "\n",
       "    .dataframe tbody tr th {\n",
       "        vertical-align: top;\n",
       "    }\n",
       "\n",
       "    .dataframe thead th {\n",
       "        text-align: right;\n",
       "    }\n",
       "</style>\n",
       "<table border=\"1\" class=\"dataframe\">\n",
       "  <thead>\n",
       "    <tr style=\"text-align: right;\">\n",
       "      <th></th>\n",
       "      <th>location_name</th>\n",
       "      <th>royalty_fee</th>\n",
       "    </tr>\n",
       "  </thead>\n",
       "  <tbody>\n",
       "    <tr>\n",
       "      <th>0</th>\n",
       "      <td>SIP ABACUS -  UTTARAHALLI</td>\n",
       "      <td>1625071.00</td>\n",
       "    </tr>\n",
       "    <tr>\n",
       "      <th>1</th>\n",
       "      <td>SIP ABACUS -  CHAMARAJPET</td>\n",
       "      <td>1615661.40</td>\n",
       "    </tr>\n",
       "    <tr>\n",
       "      <th>2</th>\n",
       "      <td>SIP ABACUS -   KASAVANAHALLI</td>\n",
       "      <td>1452487.00</td>\n",
       "    </tr>\n",
       "    <tr>\n",
       "      <th>3</th>\n",
       "      <td>SIP ABACUS -  VIJAYA NAGAR</td>\n",
       "      <td>1111451.40</td>\n",
       "    </tr>\n",
       "    <tr>\n",
       "      <th>4</th>\n",
       "      <td>SIP ABACUS -  BASAVANAGUDI</td>\n",
       "      <td>709268.00</td>\n",
       "    </tr>\n",
       "    <tr>\n",
       "      <th>5</th>\n",
       "      <td>SIP ABACUS -  RANEBENNUR</td>\n",
       "      <td>487211.52</td>\n",
       "    </tr>\n",
       "    <tr>\n",
       "      <th>6</th>\n",
       "      <td>SIP ABACUS -  HOSAKEREHALLI</td>\n",
       "      <td>444477.00</td>\n",
       "    </tr>\n",
       "    <tr>\n",
       "      <th>7</th>\n",
       "      <td>SIP ABACUS -  JAYA NAGAR</td>\n",
       "      <td>365424.00</td>\n",
       "    </tr>\n",
       "    <tr>\n",
       "      <th>8</th>\n",
       "      <td>Sip Abacus-  Banashankari</td>\n",
       "      <td>306335.00</td>\n",
       "    </tr>\n",
       "    <tr>\n",
       "      <th>9</th>\n",
       "      <td>SIP ABACUS -  PATIL NAGAR</td>\n",
       "      <td>273570.00</td>\n",
       "    </tr>\n",
       "  </tbody>\n",
       "</table>\n",
       "</div>"
      ],
      "text/plain": [
       "                  location_name  royalty_fee\n",
       "0     SIP ABACUS -  UTTARAHALLI   1625071.00\n",
       "1    SIP ABACUS -  CHAMARAJPET    1615661.40\n",
       "2  SIP ABACUS -   KASAVANAHALLI   1452487.00\n",
       "3    SIP ABACUS -  VIJAYA NAGAR   1111451.40\n",
       "4    SIP ABACUS -  BASAVANAGUDI    709268.00\n",
       "5      SIP ABACUS -  RANEBENNUR    487211.52\n",
       "6   SIP ABACUS -  HOSAKEREHALLI    444477.00\n",
       "7      SIP ABACUS -  JAYA NAGAR    365424.00\n",
       "8     Sip Abacus-  Banashankari    306335.00\n",
       "9     SIP ABACUS -  PATIL NAGAR    273570.00"
      ]
     },
     "execution_count": 22,
     "metadata": {},
     "output_type": "execute_result"
    }
   ],
   "source": [
    "df.groupby('location_name')['royalty_fee'].sum().sort_values(ascending=False).reset_index().head(10)"
   ]
  },
  {
   "cell_type": "markdown",
   "id": "77b6f731",
   "metadata": {},
   "source": [
    "**Which are the bottom 10 centers?**"
   ]
  },
  {
   "cell_type": "code",
   "execution_count": 23,
   "id": "b85fec77",
   "metadata": {},
   "outputs": [
    {
     "data": {
      "text/html": [
       "<div>\n",
       "<style scoped>\n",
       "    .dataframe tbody tr th:only-of-type {\n",
       "        vertical-align: middle;\n",
       "    }\n",
       "\n",
       "    .dataframe tbody tr th {\n",
       "        vertical-align: top;\n",
       "    }\n",
       "\n",
       "    .dataframe thead th {\n",
       "        text-align: right;\n",
       "    }\n",
       "</style>\n",
       "<table border=\"1\" class=\"dataframe\">\n",
       "  <thead>\n",
       "    <tr style=\"text-align: right;\">\n",
       "      <th></th>\n",
       "      <th>location_name</th>\n",
       "      <th>student_name</th>\n",
       "    </tr>\n",
       "  </thead>\n",
       "  <tbody>\n",
       "    <tr>\n",
       "      <th>21</th>\n",
       "      <td>GENIUL HUB- KANAKANAGAR</td>\n",
       "      <td>15</td>\n",
       "    </tr>\n",
       "    <tr>\n",
       "      <th>22</th>\n",
       "      <td>BRIGHT BRAIN- HOSAKEREHALLI</td>\n",
       "      <td>14</td>\n",
       "    </tr>\n",
       "    <tr>\n",
       "      <th>23</th>\n",
       "      <td>JALA VIDYA EDU CENTER- VIDHYARANYAPURA</td>\n",
       "      <td>14</td>\n",
       "    </tr>\n",
       "    <tr>\n",
       "      <th>24</th>\n",
       "      <td>BRILLIANT ACADEMY- KOPPAL</td>\n",
       "      <td>9</td>\n",
       "    </tr>\n",
       "    <tr>\n",
       "      <th>25</th>\n",
       "      <td>PRERANA FOUNDATION- KALABURAGI</td>\n",
       "      <td>9</td>\n",
       "    </tr>\n",
       "    <tr>\n",
       "      <th>26</th>\n",
       "      <td>ANKURA CENTRE FOR LEARNING-BANGALORE</td>\n",
       "      <td>8</td>\n",
       "    </tr>\n",
       "    <tr>\n",
       "      <th>27</th>\n",
       "      <td>ABACUS AND BRAIN GYM CENTRE- KENGERI UPANAGAR</td>\n",
       "      <td>5</td>\n",
       "    </tr>\n",
       "    <tr>\n",
       "      <th>28</th>\n",
       "      <td>BANASHANKARI 2ND STAGE</td>\n",
       "      <td>1</td>\n",
       "    </tr>\n",
       "    <tr>\n",
       "      <th>29</th>\n",
       "      <td>BUDDING GENIUS- KASAVANAHALLI</td>\n",
       "      <td>1</td>\n",
       "    </tr>\n",
       "    <tr>\n",
       "      <th>30</th>\n",
       "      <td>KIDS CASTLE BTM</td>\n",
       "      <td>1</td>\n",
       "    </tr>\n",
       "  </tbody>\n",
       "</table>\n",
       "</div>"
      ],
      "text/plain": [
       "                                    location_name  student_name\n",
       "21                        GENIUL HUB- KANAKANAGAR            15\n",
       "22                    BRIGHT BRAIN- HOSAKEREHALLI            14\n",
       "23         JALA VIDYA EDU CENTER- VIDHYARANYAPURA            14\n",
       "24                      BRILLIANT ACADEMY- KOPPAL             9\n",
       "25                 PRERANA FOUNDATION- KALABURAGI             9\n",
       "26           ANKURA CENTRE FOR LEARNING-BANGALORE             8\n",
       "27  ABACUS AND BRAIN GYM CENTRE- KENGERI UPANAGAR             5\n",
       "28                         BANASHANKARI 2ND STAGE             1\n",
       "29                  BUDDING GENIUS- KASAVANAHALLI             1\n",
       "30                                KIDS CASTLE BTM             1"
      ]
     },
     "execution_count": 23,
     "metadata": {},
     "output_type": "execute_result"
    }
   ],
   "source": [
    "df.groupby('location_name')['student_name'].nunique().sort_values(ascending=False).reset_index().tail(10)"
   ]
  },
  {
   "cell_type": "markdown",
   "id": "23f271d8",
   "metadata": {},
   "source": [
    "**Average Royalty per student, by center**"
   ]
  },
  {
   "cell_type": "code",
   "execution_count": 24,
   "id": "fa0c0110",
   "metadata": {},
   "outputs": [],
   "source": [
    "# Avg royalty collected per student?\n",
    "center_stats = df.groupby('location_name')[['student_name', 'royalty_fee']].agg({'student_name': 'nunique',\n",
    "                                                                                 'royalty_fee': 'sum'})\n",
    "center_stats = center_stats.reset_index()\n",
    "center_stats = center_stats.rename({'student_name': 'student_count'}, axis=1)\n",
    "\n",
    "center_stats['royalty_per_student'] = round(center_stats['royalty_fee']/center_stats['student_count'], 2)\n",
    "center_stats = center_stats.sort_values(by='royalty_per_student', ascending=False)"
   ]
  },
  {
   "cell_type": "code",
   "execution_count": 25,
   "id": "5fec0933",
   "metadata": {
    "scrolled": true
   },
   "outputs": [
    {
     "data": {
      "text/html": [
       "<div>\n",
       "<style scoped>\n",
       "    .dataframe tbody tr th:only-of-type {\n",
       "        vertical-align: middle;\n",
       "    }\n",
       "\n",
       "    .dataframe tbody tr th {\n",
       "        vertical-align: top;\n",
       "    }\n",
       "\n",
       "    .dataframe thead th {\n",
       "        text-align: right;\n",
       "    }\n",
       "</style>\n",
       "<table border=\"1\" class=\"dataframe\">\n",
       "  <thead>\n",
       "    <tr style=\"text-align: right;\">\n",
       "      <th></th>\n",
       "      <th>location_name</th>\n",
       "      <th>student_count</th>\n",
       "      <th>royalty_fee</th>\n",
       "      <th>royalty_per_student</th>\n",
       "    </tr>\n",
       "  </thead>\n",
       "  <tbody>\n",
       "    <tr>\n",
       "      <th>12</th>\n",
       "      <td>SIP ABACUS -   KASAVANAHALLI</td>\n",
       "      <td>365</td>\n",
       "      <td>1452487.0</td>\n",
       "      <td>3979.42</td>\n",
       "    </tr>\n",
       "    <tr>\n",
       "      <th>20</th>\n",
       "      <td>SIP ABACUS -  KANAKA NAGAR</td>\n",
       "      <td>83</td>\n",
       "      <td>230705.0</td>\n",
       "      <td>2779.58</td>\n",
       "    </tr>\n",
       "    <tr>\n",
       "      <th>13</th>\n",
       "      <td>SIP ABACUS -  BASAVANAGUDI</td>\n",
       "      <td>263</td>\n",
       "      <td>709268.0</td>\n",
       "      <td>2696.84</td>\n",
       "    </tr>\n",
       "    <tr>\n",
       "      <th>26</th>\n",
       "      <td>SIP ABACUS -  UTTARAHALLI</td>\n",
       "      <td>620</td>\n",
       "      <td>1625071.0</td>\n",
       "      <td>2621.08</td>\n",
       "    </tr>\n",
       "    <tr>\n",
       "      <th>29</th>\n",
       "      <td>SIP ABACUS - SHANTHI NAGAR</td>\n",
       "      <td>48</td>\n",
       "      <td>125641.0</td>\n",
       "      <td>2617.52</td>\n",
       "    </tr>\n",
       "  </tbody>\n",
       "</table>\n",
       "</div>"
      ],
      "text/plain": [
       "                   location_name  student_count  royalty_fee  \\\n",
       "12  SIP ABACUS -   KASAVANAHALLI            365    1452487.0   \n",
       "20    SIP ABACUS -  KANAKA NAGAR             83     230705.0   \n",
       "13    SIP ABACUS -  BASAVANAGUDI            263     709268.0   \n",
       "26     SIP ABACUS -  UTTARAHALLI            620    1625071.0   \n",
       "29    SIP ABACUS - SHANTHI NAGAR             48     125641.0   \n",
       "\n",
       "    royalty_per_student  \n",
       "12              3979.42  \n",
       "20              2779.58  \n",
       "13              2696.84  \n",
       "26              2621.08  \n",
       "29              2617.52  "
      ]
     },
     "execution_count": 25,
     "metadata": {},
     "output_type": "execute_result"
    }
   ],
   "source": [
    "center_stats.head()"
   ]
  },
  {
   "cell_type": "markdown",
   "id": "8d5fe6f0",
   "metadata": {},
   "source": [
    "**Distribution of Royalty Fee**"
   ]
  },
  {
   "cell_type": "code",
   "execution_count": 26,
   "id": "11c10c2a",
   "metadata": {},
   "outputs": [
    {
     "data": {
      "text/html": [
       "<div>\n",
       "<style scoped>\n",
       "    .dataframe tbody tr th:only-of-type {\n",
       "        vertical-align: middle;\n",
       "    }\n",
       "\n",
       "    .dataframe tbody tr th {\n",
       "        vertical-align: top;\n",
       "    }\n",
       "\n",
       "    .dataframe thead th {\n",
       "        text-align: right;\n",
       "    }\n",
       "</style>\n",
       "<table border=\"1\" class=\"dataframe\">\n",
       "  <thead>\n",
       "    <tr style=\"text-align: right;\">\n",
       "      <th></th>\n",
       "      <th>course_fee</th>\n",
       "      <th>receipt_amt</th>\n",
       "      <th>discount_amt</th>\n",
       "      <th>late_fee</th>\n",
       "      <th>royalty_fee</th>\n",
       "      <th>receipt_month</th>\n",
       "      <th>receipt_year</th>\n",
       "    </tr>\n",
       "  </thead>\n",
       "  <tbody>\n",
       "    <tr>\n",
       "      <th>count</th>\n",
       "      <td>32266.000000</td>\n",
       "      <td>32266.000000</td>\n",
       "      <td>32266.000000</td>\n",
       "      <td>32266.000000</td>\n",
       "      <td>32266.000000</td>\n",
       "      <td>32266.000000</td>\n",
       "      <td>32266.0</td>\n",
       "    </tr>\n",
       "    <tr>\n",
       "      <th>mean</th>\n",
       "      <td>1170.582029</td>\n",
       "      <td>1282.705029</td>\n",
       "      <td>45.613321</td>\n",
       "      <td>22.995333</td>\n",
       "      <td>308.503320</td>\n",
       "      <td>6.917529</td>\n",
       "      <td>2021.0</td>\n",
       "    </tr>\n",
       "    <tr>\n",
       "      <th>std</th>\n",
       "      <td>476.323107</td>\n",
       "      <td>505.772050</td>\n",
       "      <td>308.481598</td>\n",
       "      <td>293.217687</td>\n",
       "      <td>117.803382</td>\n",
       "      <td>3.318010</td>\n",
       "      <td>0.0</td>\n",
       "    </tr>\n",
       "    <tr>\n",
       "      <th>min</th>\n",
       "      <td>630.000000</td>\n",
       "      <td>100.000000</td>\n",
       "      <td>0.000000</td>\n",
       "      <td>0.000000</td>\n",
       "      <td>147.760000</td>\n",
       "      <td>1.000000</td>\n",
       "      <td>2021.0</td>\n",
       "    </tr>\n",
       "    <tr>\n",
       "      <th>25%</th>\n",
       "      <td>1102.000000</td>\n",
       "      <td>1300.000000</td>\n",
       "      <td>0.000000</td>\n",
       "      <td>0.000000</td>\n",
       "      <td>291.000000</td>\n",
       "      <td>4.000000</td>\n",
       "      <td>2021.0</td>\n",
       "    </tr>\n",
       "    <tr>\n",
       "      <th>50%</th>\n",
       "      <td>1102.000000</td>\n",
       "      <td>1300.360000</td>\n",
       "      <td>0.000000</td>\n",
       "      <td>0.000000</td>\n",
       "      <td>291.000000</td>\n",
       "      <td>7.000000</td>\n",
       "      <td>2021.0</td>\n",
       "    </tr>\n",
       "    <tr>\n",
       "      <th>75%</th>\n",
       "      <td>1200.000000</td>\n",
       "      <td>1300.360000</td>\n",
       "      <td>0.000000</td>\n",
       "      <td>0.000000</td>\n",
       "      <td>317.000000</td>\n",
       "      <td>10.000000</td>\n",
       "      <td>2021.0</td>\n",
       "    </tr>\n",
       "    <tr>\n",
       "      <th>max</th>\n",
       "      <td>17500.000000</td>\n",
       "      <td>20150.270000</td>\n",
       "      <td>5340.000000</td>\n",
       "      <td>5340.000000</td>\n",
       "      <td>3804.000000</td>\n",
       "      <td>12.000000</td>\n",
       "      <td>2021.0</td>\n",
       "    </tr>\n",
       "  </tbody>\n",
       "</table>\n",
       "</div>"
      ],
      "text/plain": [
       "         course_fee   receipt_amt  discount_amt      late_fee   royalty_fee  \\\n",
       "count  32266.000000  32266.000000  32266.000000  32266.000000  32266.000000   \n",
       "mean    1170.582029   1282.705029     45.613321     22.995333    308.503320   \n",
       "std      476.323107    505.772050    308.481598    293.217687    117.803382   \n",
       "min      630.000000    100.000000      0.000000      0.000000    147.760000   \n",
       "25%     1102.000000   1300.000000      0.000000      0.000000    291.000000   \n",
       "50%     1102.000000   1300.360000      0.000000      0.000000    291.000000   \n",
       "75%     1200.000000   1300.360000      0.000000      0.000000    317.000000   \n",
       "max    17500.000000  20150.270000   5340.000000   5340.000000   3804.000000   \n",
       "\n",
       "       receipt_month  receipt_year  \n",
       "count   32266.000000       32266.0  \n",
       "mean        6.917529        2021.0  \n",
       "std         3.318010           0.0  \n",
       "min         1.000000        2021.0  \n",
       "25%         4.000000        2021.0  \n",
       "50%         7.000000        2021.0  \n",
       "75%        10.000000        2021.0  \n",
       "max        12.000000        2021.0  "
      ]
     },
     "execution_count": 26,
     "metadata": {},
     "output_type": "execute_result"
    }
   ],
   "source": [
    "df.describe()"
   ]
  },
  {
   "cell_type": "markdown",
   "id": "9aeeb58f",
   "metadata": {},
   "source": [
    "**What are the top schools from which students are joining?**"
   ]
  },
  {
   "cell_type": "code",
   "execution_count": 47,
   "id": "1963abcd",
   "metadata": {},
   "outputs": [
    {
     "data": {
      "text/plain": [
       "CARMEL SCHOOL                  716\n",
       "NATIONAL PUBLIC SCHOOL         674\n",
       "JAIN PUBLIC SCHOOL             606\n",
       "LITTLE FLOWER PUBLIC SCHOOL    475\n",
       "RNS                            448\n",
       "DELHI PUBLIC SCHOOL            433\n",
       "SFS HIGHSCHOOL                 389\n",
       "BIPS                           375\n",
       "PRARTHANA SCHOOL               365\n",
       "CITY INTERNATIONAL             342\n",
       "Name: school_name, dtype: int64"
      ]
     },
     "execution_count": 47,
     "metadata": {},
     "output_type": "execute_result"
    }
   ],
   "source": [
    "df['school_name'].value_counts().head(10)"
   ]
  },
  {
   "cell_type": "code",
   "execution_count": 40,
   "id": "e7fbe367",
   "metadata": {},
   "outputs": [
    {
     "data": {
      "text/plain": [
       "array(['SIP ABACUS -  CHAMARAJPET ', 'ANIKETHANA ACADEMY- CHAMARAJPET',\n",
       "       'SIP ABACUS -  JAYA NAGAR', 'SIP ABACUS -  BTM LAYOUT',\n",
       "       'KIDS CASTLE BTM', 'SIP ABACUS -  PATIL NAGAR',\n",
       "       'BRILLIANT ACADEMY- KOPPAL', 'SIP ABACUS - SHANTHI NAGAR',\n",
       "       'SIP ABACUS -  KENGERI',\n",
       "       'ABACUS AND BRAIN GYM CENTRE- KENGERI UPANAGAR',\n",
       "       'SIP ABACUS -  VIJAYA NAGAR', 'SIP ABACUS -  RANEBENNUR',\n",
       "       'Sip Abacus-  Banashankari', 'BANASHANKARI 2ND STAGE',\n",
       "       'SIP ABACUS -  KANAKA NAGAR', 'GENIUL HUB- KANAKANAGAR',\n",
       "       'SIP ABACUS -   KASAVANAHALLI', 'BUDDING GENIUS- KASAVANAHALLI',\n",
       "       'SIP ABACUS -  VIDHYARANYAPURA',\n",
       "       'JALA VIDYA EDU CENTER- VIDHYARANYAPURA',\n",
       "       'SIP ABACUS -  KALABURAGI', 'PRERANA FOUNDATION- KALABURAGI',\n",
       "       'SIP ABACUS -  SUNKADAKATTE',\n",
       "       'ANKURA CENTRE FOR LEARNING-BANGALORE',\n",
       "       'SIP ABACUS -  SRIRAMAPURAM', 'SIP ABACUS -  KALLIKERE',\n",
       "       'SIP ABACUS -  UTTARAHALLI', 'SIP ABACUS -  HOSAKEREHALLI',\n",
       "       'BRIGHT BRAIN SABG- UTTARAHALLI', 'BRIGHT BRAIN- HOSAKEREHALLI',\n",
       "       'SIP ABACUS -  BASAVANAGUDI'], dtype=object)"
      ]
     },
     "execution_count": 40,
     "metadata": {},
     "output_type": "execute_result"
    }
   ],
   "source": [
    "df.location_name.unique()"
   ]
  },
  {
   "cell_type": "markdown",
   "id": "9af744a2",
   "metadata": {},
   "source": [
    "**Deep Dive into SIP KVH**"
   ]
  },
  {
   "cell_type": "code",
   "execution_count": 36,
   "id": "fcfface8",
   "metadata": {},
   "outputs": [],
   "source": [
    "df_kvh = df[df['location_name'] == 'SIP ABACUS -   KASAVANAHALLI']"
   ]
  },
  {
   "cell_type": "code",
   "execution_count": 37,
   "id": "56baa065",
   "metadata": {},
   "outputs": [],
   "source": [
    "student_count_monthly = student_monthly_dist(df_kvh)"
   ]
  },
  {
   "cell_type": "code",
   "execution_count": 39,
   "id": "4110077c",
   "metadata": {
    "scrolled": false
   },
   "outputs": [
    {
     "data": {
      "image/png": "[encoded data removed]",
      "text/plain": [
       "<Figure size 432x288 with 1 Axes>"
      ]
     },
     "metadata": {
      "needs_background": "light"
     },
     "output_type": "display_data"
    }
   ],
   "source": [
    "# Plot\n",
    "sns.barplot(data=student_count_monthly, x='receipt_month', y='student_name')\n",
    "plt.title(f'# Students across {YEAR}')\n",
    "plt.xlabel(f'Month (in {YEAR})')\n",
    "plt.ylabel('Count of Students');"
   ]
  },
  {
   "cell_type": "markdown",
   "id": "b32039df",
   "metadata": {},
   "source": [
    "**Deep Dive into SIP Basvangudi**"
   ]
  },
  {
   "cell_type": "code",
   "execution_count": 41,
   "id": "780e75bc",
   "metadata": {},
   "outputs": [],
   "source": [
    "df_basava = df[df['location_name'] == 'SIP ABACUS -  BASAVANAGUDI']"
   ]
  },
  {
   "cell_type": "code",
   "execution_count": 42,
   "id": "a07bd6ef",
   "metadata": {},
   "outputs": [],
   "source": [
    "student_count_monthly = student_monthly_dist(df_basava)"
   ]
  },
  {
   "cell_type": "code",
   "execution_count": 43,
   "id": "2e161d51",
   "metadata": {
    "scrolled": false
   },
   "outputs": [
    {
     "data": {
      "image/png": "[encoded data removed]",
      "text/plain": [
       "<Figure size 432x288 with 1 Axes>"
      ]
     },
     "metadata": {
      "needs_background": "light"
     },
     "output_type": "display_data"
    }
   ],
   "source": [
    "# Plot\n",
    "sns.barplot(data=student_count_monthly, x='receipt_month', y='student_name')\n",
    "plt.title(f'# Students across {YEAR}')\n",
    "plt.xlabel(f'Month (in {YEAR})')\n",
    "plt.ylabel('Count of Students');"
   ]
  },
  {
   "cell_type": "code",
   "execution_count": null,
   "id": "a3d2d992",
   "metadata": {},
   "outputs": [],
   "source": []
  }
 ],
 "metadata": {
  "kernelspec": {
   "display_name": "Python 3",
   "language": "python",
   "name": "python3"
  },
  "language_info": {
   "codemirror_mode": {
    "name": "ipython",
    "version": 3
   },
   "file_extension": ".py",
   "mimetype": "text/x-python",
   "name": "python",
   "nbconvert_exporter": "python",
   "pygments_lexer": "ipython3",
   "version": "3.8.8"
  }
 },
 "nbformat": 4,
 "nbformat_minor": 5
}
